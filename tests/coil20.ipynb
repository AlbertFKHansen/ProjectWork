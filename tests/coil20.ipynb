{
 "cells": [
  {
   "cell_type": "markdown",
   "metadata": {},
   "source": [
    "## coil-20 latent space test"
   ]
  },
  {
   "cell_type": "code",
   "execution_count": 1,
   "metadata": {},
   "outputs": [],
   "source": [
    "import numpy as np\n",
    "import torch\n",
    "from PIL import Image\n",
    "from matplotlib import pyplot as plt\n",
    "from matplotlib.colors import Normalize\n",
    "from tqdm import tqdm\n",
    "import clip\n",
    "from sklearn.manifold import TSNE\n",
    "from sklearn.decomposition import PCA"
   ]
  },
  {
   "cell_type": "code",
   "execution_count": 5,
   "metadata": {},
   "outputs": [],
   "source": [
    "coil20 = list()\n",
    "for i in range(20):\n",
    "    coil20.append(list())\n",
    "    for j in range(72):\n",
    "        img = Image.open(f'../Data/coil-20/{i+1}/obj{i+1}__{j}.png')\n",
    "        coil20[i].append(img)"
   ]
  },
  {
   "cell_type": "code",
   "execution_count": 13,
   "metadata": {},
   "outputs": [],
   "source": [
    "#baseline\n",
    "for i in range(20):\n",
    "    features = np.array([])\n",
    "    for j in range(72):\n",
    "        features = np.append(features, np.array(coil20[i][j]))\n",
    "    \n",
    "    features = features.reshape(72, features.shape[0]//72)    \n",
    "    img_tsne = TSNE(n_components=2).fit_transform(features)\n",
    "    img_pca = PCA(n_components=2).fit_transform(features)\n",
    "\n",
    "    cmap = plt.colormaps[\"plasma\"]\n",
    "    norm = Normalize(vmin=0, vmax=71)\n",
    "\n",
    "    # Create figure\n",
    "    fig, (ax1, ax2) = plt.subplots(1, 2, figsize=(10, 5))\n",
    "\n",
    "    # Plot t-SNE\n",
    "    ax1.plot(img_tsne[:, 0], img_tsne[:, 1], 'k-', alpha=0.3)\n",
    "    scatter1 = ax1.scatter(img_tsne[:, 0], img_tsne[:, 1], c=np.arange(72), cmap=cmap)\n",
    "    ax1.set_title('TSNE')\n",
    "\n",
    "    # Plot PCA\n",
    "    ax2.plot(img_pca[:, 0], img_pca[:, 1], 'k-', alpha=0.3)\n",
    "    scatter2 = ax2.scatter(img_pca[:, 0], img_pca[:, 1], c=np.arange(72), cmap=cmap)\n",
    "    ax2.set_title('PCA')\n",
    "\n",
    "    # Adjust layout to make room for colorbar\n",
    "    plt.tight_layout()\n",
    "    fig.subplots_adjust(right=0.88)  # Make room for colorbar on right\n",
    "\n",
    "    # Add colorbar on the right side with custom width\n",
    "    cbar_ax = fig.add_axes([0.9, 0.1, 0.02, 0.8])\n",
    "    cbar = fig.colorbar(plt.cm.ScalarMappable(norm=norm, cmap=cmap), cax=cbar_ax, label=\"Picture number\")\n",
    "\n",
    "    plt.savefig(f'coil20/baseline/{i+1}.png')\n",
    "    plt.close()"
   ]
  }
 ],
 "metadata": {
  "kernelspec": {
   "display_name": "Python 3",
   "language": "python",
   "name": "python3"
  },
  "language_info": {
   "codemirror_mode": {
    "name": "ipython",
    "version": 3
   },
   "file_extension": ".py",
   "mimetype": "text/x-python",
   "name": "python",
   "nbconvert_exporter": "python",
   "pygments_lexer": "ipython3",
   "version": "3.12.3"
  }
 },
 "nbformat": 4,
 "nbformat_minor": 2
}
