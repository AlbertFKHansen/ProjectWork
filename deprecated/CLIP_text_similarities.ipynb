{
 "cells": [
  {
   "cell_type": "markdown",
   "metadata": {},
   "source": [
    "# Code Snippet to investigate the text encoder:"
   ]
  },
  {
   "cell_type": "code",
   "execution_count": 1,
   "metadata": {},
   "outputs": [
    {
     "name": "stdout",
     "output_type": "stream",
     "text": [
      "Using device: cpu\n"
     ]
    },
    {
     "name": "stderr",
     "output_type": "stream",
     "text": [
      "100%|███████████████████████████████████████| 338M/338M [01:37<00:00, 3.65MiB/s]\n"
     ]
    },
    {
     "name": "stdout",
     "output_type": "stream",
     "text": [
      "CLIP model loaded successfully!\n"
     ]
    }
   ],
   "source": [
    "import torch\n",
    "import clip\n",
    "\n",
    "# Check if the environment is using CUDA\n",
    "device = \"cuda\" if torch.cuda.is_available() else \"cpu\"\n",
    "print(f\"Using device: {device}\")\n",
    "\n",
    "# Load the model and preprocess\n",
    "model, preprocess = clip.load(\"ViT-B/32\", device)\n",
    "\n",
    "print(\"CLIP model loaded successfully!\")"
   ]
  },
  {
   "cell_type": "code",
   "execution_count": null,
   "metadata": {},
   "outputs": [],
   "source": [
    "def word_encoder(words: list) -> dict[str, torch.Tensor]:\n",
    "    embeddings = {}\n",
    "    for word in words:\n",
    "        tokenizer = clip.tokenize([word]).to(device)\n",
    "\n",
    "        with torch.no_grad():\n",
    "            embedding = model.encode_text(tokenizer)\n",
    "        \n",
    "        embeddings[word] = embedding\n",
    "\n",
    "    return embeddings\n",
    "\n",
    "def embedding_similarities(target_word, candidates):\n",
    "    word_similarities = []\n",
    "    target_embedding = next(iter(target_word.values())) \n",
    "    target_word_str = next(iter(target_word.keys())) \n",
    "\n",
    "    for word, embedding in candidates.items():\n",
    "        similarity = torch.cosine_similarity(target_embedding, embedding)\n",
    "        word_similarities.append((word, similarity.item()))\n",
    "\n",
    "    word_similarities = sorted(word_similarities, key=lambda x: x[1], reverse=True)\n",
    "    print(f\"Comparing '{target_word_str}' with:\")\n",
    "    for word, similarity in word_similarities:\n",
    "        print(f\"{word}: {similarity:.4f}\")\n"
   ]
  },
  {
   "cell_type": "markdown",
   "metadata": {},
   "source": [
    "Word similarities:"
   ]
  },
  {
   "cell_type": "code",
   "execution_count": null,
   "metadata": {},
   "outputs": [
    {
     "name": "stdout",
     "output_type": "stream",
     "text": [
      "Comparing 'king' with:\n",
      "queen: 0.9483\n",
      "woman: 0.8910\n",
      "man: 0.8831\n"
     ]
    }
   ],
   "source": [
    "words = [\"queen\", \"man\", \"woman\"]\n",
    "target = [\"king\"]\n",
    "\n",
    "word_embed = word_encoder(words)\n",
    "target_embed = word_encoder(target)\n",
    "\n",
    "embedding_similarities(target_embed, word_embed)\n"
   ]
  },
  {
   "cell_type": "markdown",
   "metadata": {},
   "source": [
    "Vector analogies:"
   ]
  },
  {
   "cell_type": "code",
   "execution_count": null,
   "metadata": {},
   "outputs": [
    {
     "name": "stdout",
     "output_type": "stream",
     "text": [
      "Comparing 'Queen_approx' with:\n",
      "queen: 0.9025\n",
      "woman: 0.8900\n",
      "prince: 0.8650\n",
      "boss: 0.8626\n",
      "child: 0.8201\n",
      "hero: 0.7572\n",
      "man: 0.6932\n"
     ]
    }
   ],
   "source": [
    "words = [\"queen\", \"prince\", \"child\", \"hero\", \"boss\", \"man\", \"woman\"]\n",
    "target = [\"king\"]\n",
    "word_embed = word_encoder(words)\n",
    "target_embed = word_encoder(target)\n",
    "\n",
    "arithmetic = target_embed[\"king\"] - word_embed[\"man\"] + word_embed[\"woman\"]\n",
    "target_embed = {\"Queen_approx\": arithmetic}\n",
    "\n",
    "embedding_similarities(target_embed, word_embed)\n"
   ]
  },
  {
   "cell_type": "code",
   "execution_count": null,
   "metadata": {},
   "outputs": [],
   "source": []
  }
 ],
 "metadata": {
  "kernelspec": {
   "display_name": "ProjectWorkEnv",
   "language": "python",
   "name": "python3"
  },
  "language_info": {
   "codemirror_mode": {
    "name": "ipython",
    "version": 3
   },
   "file_extension": ".py",
   "mimetype": "text/x-python",
   "name": "python",
   "nbconvert_exporter": "python",
   "pygments_lexer": "ipython3",
   "version": "3.12.9"
  }
 },
 "nbformat": 4,
 "nbformat_minor": 2
}
