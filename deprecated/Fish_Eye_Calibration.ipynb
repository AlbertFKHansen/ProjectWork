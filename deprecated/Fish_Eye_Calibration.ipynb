{
 "cells": [
  {
   "cell_type": "code",
   "id": "initial_id",
   "metadata": {
    "collapsed": true,
    "ExecuteTime": {
     "end_time": "2025-04-23T11:50:22.842289Z",
     "start_time": "2025-04-23T11:50:22.835483Z"
    }
   },
   "source": [
    "import numpy as np\n",
    "import cv2 as cv\n",
    "import glob"
   ],
   "outputs": [],
   "execution_count": 16
  },
  {
   "metadata": {
    "ExecuteTime": {
     "end_time": "2025-04-23T11:50:23.689458Z",
     "start_time": "2025-04-23T11:50:23.684549Z"
    }
   },
   "cell_type": "code",
   "source": [
    "# termination criteria\n",
    "criteria = (cv.TERM_CRITERIA_EPS + cv.TERM_CRITERIA_MAX_ITER, 30, 0.001)\n",
    "\n",
    "# prepare object points, like (0,0,0), (1,0,0), (2,0,0) ....,(6,5,0)\n",
    "objp = np.zeros((6*7,3), np.float32)\n",
    "objp[:,:2] = np.mgrid[0:7,0:6].T.reshape(-1,2)"
   ],
   "id": "6df1aa388bb3cab",
   "outputs": [],
   "execution_count": 17
  },
  {
   "metadata": {
    "ExecuteTime": {
     "end_time": "2025-04-23T11:50:24.402501Z",
     "start_time": "2025-04-23T11:50:24.396091Z"
    }
   },
   "cell_type": "code",
   "source": [
    "# Arrays to store object points and image points from all the images.\n",
    "objpoints = [] # 3d point in real world space\n",
    "imgpoints = [] # 2d points in image plane.\n",
    "\n",
    "images = glob.glob('FishEyeTestset/*.jpg')\n",
    "images"
   ],
   "id": "2b43743b4c346bec",
   "outputs": [
    {
     "data": {
      "text/plain": [
       "['FishEyeTestset/left05.jpg',\n",
       " 'FishEyeTestset/right09.jpg',\n",
       " 'FishEyeTestset/left04.jpg',\n",
       " 'FishEyeTestset/right01.jpg',\n",
       " 'FishEyeTestset/right13.jpg',\n",
       " 'FishEyeTestset/right07.jpg',\n",
       " 'FishEyeTestset/left14.jpg',\n",
       " 'FishEyeTestset/left08.jpg',\n",
       " 'FishEyeTestset/left13.jpg',\n",
       " 'FishEyeTestset/left06.jpg',\n",
       " 'FishEyeTestset/left12.jpg',\n",
       " 'FishEyeTestset/right11.jpg',\n",
       " 'FishEyeTestset/left02.jpg',\n",
       " 'FishEyeTestset/right03.jpg',\n",
       " 'FishEyeTestset/right06.jpg',\n",
       " 'FishEyeTestset/right08.jpg',\n",
       " 'FishEyeTestset/left03.jpg',\n",
       " 'FishEyeTestset/left07.jpg',\n",
       " 'FishEyeTestset/right05.jpg',\n",
       " 'FishEyeTestset/right12.jpg',\n",
       " 'FishEyeTestset/left09.jpg',\n",
       " 'FishEyeTestset/right14.jpg',\n",
       " 'FishEyeTestset/right02.jpg',\n",
       " 'FishEyeTestset/left01.jpg',\n",
       " 'FishEyeTestset/right04.jpg',\n",
       " 'FishEyeTestset/left11.jpg']"
      ]
     },
     "execution_count": 18,
     "metadata": {},
     "output_type": "execute_result"
    }
   ],
   "execution_count": 18
  },
  {
   "metadata": {
    "ExecuteTime": {
     "end_time": "2025-04-23T11:50:33.632620Z",
     "start_time": "2025-04-23T11:50:25.206043Z"
    }
   },
   "cell_type": "code",
   "source": [
    "for fname in images:\n",
    "    img = cv.imread(fname)\n",
    "    gray = cv.cvtColor(img, cv.COLOR_BGR2GRAY)\n",
    "\n",
    "    # Find the chess board corners\n",
    "    ret, corners = cv.findChessboardCorners(gray, (7,6), None)\n",
    "\n",
    "    # If found, add object points, image points (after refining them)\n",
    "    if ret == True:\n",
    "        objpoints.append(objp)\n",
    "\n",
    "        corners2 = cv.cornerSubPix(gray,corners, (11,11), (-1,-1), criteria)\n",
    "        imgpoints.append(corners2)\n",
    "\n",
    "        # Draw and display the corners\n",
    "        cv.drawChessboardCorners(img, (7,6), corners2, ret)\n",
    "        cv.imshow('img', img)\n",
    "        cv.waitKey(500)\n",
    "\n",
    "cv.destroyAllWindows()"
   ],
   "id": "7998f252bb78be50",
   "outputs": [],
   "execution_count": 19
  },
  {
   "metadata": {
    "ExecuteTime": {
     "end_time": "2025-04-23T11:50:43.617140Z",
     "start_time": "2025-04-23T11:50:43.538220Z"
    }
   },
   "cell_type": "code",
   "source": "ret, mtx, dist, rvecs, tvecs = cv.calibrateCamera(objpoints, imgpoints, gray.shape[::-1], None, None)",
   "id": "915f15b56185ea8f",
   "outputs": [],
   "execution_count": 20
  },
  {
   "metadata": {
    "ExecuteTime": {
     "end_time": "2025-04-23T11:50:44.336029Z",
     "start_time": "2025-04-23T11:50:44.329580Z"
    }
   },
   "cell_type": "code",
   "source": [
    "img = cv.imread('FishEyeTestset/left12.jpg')\n",
    "h,  w = img.shape[:2]\n",
    "newcameramtx, roi = cv.getOptimalNewCameraMatrix(mtx, dist, (w,h), 1, (w,h))"
   ],
   "id": "6053c88bb91dbe4a",
   "outputs": [],
   "execution_count": 21
  },
  {
   "metadata": {
    "ExecuteTime": {
     "end_time": "2025-04-23T11:50:45.456215Z",
     "start_time": "2025-04-23T11:50:45.434758Z"
    }
   },
   "cell_type": "code",
   "source": [
    "# undistort\n",
    "dst = cv.undistort(img, mtx, dist, None, newcameramtx)\n",
    "\n",
    "# crop the image\n",
    "x, y, w, h = roi\n",
    "dst = dst[y:y+h, x:x+w]\n",
    "cv.imwrite('calibresult1.png', dst)"
   ],
   "id": "15a6035ec96926dd",
   "outputs": [
    {
     "data": {
      "text/plain": [
       "True"
      ]
     },
     "execution_count": 22,
     "metadata": {},
     "output_type": "execute_result"
    }
   ],
   "execution_count": 22
  },
  {
   "metadata": {
    "ExecuteTime": {
     "end_time": "2025-04-23T11:50:48.041989Z",
     "start_time": "2025-04-23T11:50:48.022688Z"
    }
   },
   "cell_type": "code",
   "source": [
    "# undistort\n",
    "mapx, mapy = cv.initUndistortRectifyMap(mtx, dist, None, newcameramtx, (w,h), 5)\n",
    "dst = cv.remap(img, mapx, mapy, cv.INTER_LINEAR)\n",
    "\n",
    "# crop the image\n",
    "x, y, w, h = roi\n",
    "dst = dst[y:y+h, x:x+w]\n",
    "cv.imwrite('calibresult2.png', dst)"
   ],
   "id": "4de83a07715ff306",
   "outputs": [
    {
     "data": {
      "text/plain": [
       "True"
      ]
     },
     "execution_count": 23,
     "metadata": {},
     "output_type": "execute_result"
    }
   ],
   "execution_count": 23
  },
  {
   "metadata": {
    "ExecuteTime": {
     "end_time": "2025-04-23T11:53:59.183325Z",
     "start_time": "2025-04-23T11:53:59.160106Z"
    }
   },
   "cell_type": "code",
   "source": "cv.imwrite('no calibration.png', img)",
   "id": "864558798f48507d",
   "outputs": [
    {
     "data": {
      "text/plain": [
       "True"
      ]
     },
     "execution_count": 25,
     "metadata": {},
     "output_type": "execute_result"
    }
   ],
   "execution_count": 25
  },
  {
   "metadata": {},
   "cell_type": "code",
   "outputs": [],
   "execution_count": null,
   "source": "",
   "id": "a57928533229642f"
  }
 ],
 "metadata": {
  "kernelspec": {
   "display_name": "Python 3",
   "language": "python",
   "name": "python3"
  },
  "language_info": {
   "codemirror_mode": {
    "name": "ipython",
    "version": 2
   },
   "file_extension": ".py",
   "mimetype": "text/x-python",
   "name": "python",
   "nbconvert_exporter": "python",
   "pygments_lexer": "ipython2",
   "version": "2.7.6"
  }
 },
 "nbformat": 4,
 "nbformat_minor": 5
}
