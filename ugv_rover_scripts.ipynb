{
 "cells": [
  {
   "cell_type": "code",
   "execution_count": null,
   "metadata": {},
   "outputs": [],
   "source": [
    "# these commands are written within a fuction that defines user commands for the web interface    \n",
    "    \n",
    "    ## Self written input commands:\n",
    "    elif args[0] == 'test':\n",
    "        cvf.update_base_data({\"T\":1003,\"mac\":1111,\"megs\":\"hello world!\"})\n",
    "\n",
    "    \n",
    "    elif args[0] == 'rotate':\n",
    "        x = args[1]\n",
    "        base.gimbal_ctrl(x, 0, 0, 0)\n",
    "\n",
    "    \n",
    "    elif args[0] == 'rotate_capture':\n",
    "        cvf.mission_flag = True\n",
    "        \n",
    "        if args[1] == '-s' or args[1] == '--stop':\n",
    "            cvf.mission_stop()\n",
    "            \n",
    "        elif cvf.mission_flag == True:\n",
    "            cvf.show_recv_info(False)\n",
    "            obj_name = args[1]\n",
    "            base.gimbal_ctrl(-180,0,0,0)\n",
    "            time.sleep(1.0)\n",
    "            for i in range(-180, 180, 5):\n",
    "                base.gimbal_ctrl(i,0,0,0)\n",
    "                time.sleep(0.5)\n",
    "                success = False\n",
    "                while not success:\n",
    "                    success, input_frame = cvf.camera.read()\n",
    "                photo_filename = f'{cvf.photo_path}obj_{obj_name}_{i+180}.png'\n",
    "                cv2.imwrite(photo_filename, input_frame)\n",
    "                time.sleep(0.5)"
   ]
  }
 ],
 "metadata": {
  "kernelspec": {
   "display_name": "Python 3",
   "language": "python",
   "name": "python3"
  },
  "language_info": {
   "name": "python",
   "version": "3.12.5"
  }
 },
 "nbformat": 4,
 "nbformat_minor": 2
}
